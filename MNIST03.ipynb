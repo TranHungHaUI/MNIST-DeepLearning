#Tăng trọng số lớp tối thiểu bằng cách tính toán độ cân bằng trọng số
#Lớp tối thiểu là lớp 1 giữ lại (số phần tử ít hơn nhiều)
#Lớp tối đa là lớp 0: other
import tensorflow as tf
from tensorflow.keras.models import Sequential
from tensorflow.keras.layers import Dense, Flatten
from tensorflow.keras.datasets import mnist
from sklearn.utils.class_weight import compute_class_weight
import numpy as np

# Tải dữ liệu MNIST
(train_images, train_labels), (test_images, test_labels) = mnist.load_data()

# Lựa chọn lớp bạn muốn giữ lại, ví dụ, số '1'
selected_class = 1

# Tạo nhãn mới: 1 cho lớp được giữ lại, 0 cho các lớp còn lại
train_labels = (train_labels == selected_class).astype(int)
test_labels = (test_labels == selected_class).astype(int)

# Chuẩn bị dữ liệu
train_images = train_images / 255.0
test_images = test_images / 255.0

# Tính toán trọng số lớp để cân bằng dữ liệu
class_weights = compute_class_weight('balanced', classes=np.unique(train_labels), y=train_labels)
class_weights_dict = dict(enumerate(class_weights))

# Tăng trọng số của lớp thiểu số để tăng trọng số của lớp được giữ lại
class_weights_dict[1] *= 1.2  # Điều chỉnh hệ số này theo nhu cầu

# Xây dựng mô hình
model = Sequential([
    Flatten(input_shape=(28, 28)),
    Dense(128, activation='relu'),
    Dense(1, activation='sigmoid')
])

# Biên dịch mô hình
model.compile(optimizer='adam',
              loss='binary_crossentropy',
              metrics=['accuracy'])

# Huấn luyện mô hình với class_weight
model.fit(train_images, train_labels, epochs=20, batch_size=128, validation_data=(test_images, test_labels), class_weight=class_weights_dict)

# Đánh giá mô hình
test_loss, test_accuracy = model.evaluate(test_images, test_labels)
print(f'Test accuracy: {test_accuracy * 100:.2f}%')
