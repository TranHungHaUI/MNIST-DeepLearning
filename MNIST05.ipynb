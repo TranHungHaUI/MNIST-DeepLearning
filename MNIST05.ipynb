#Lớp giữ lại lớp 1: selected_class
#Lớp còn lại lớp 0: other_class
#Tách dữ liệu theo lớp trong other, chọn Lấy mỗi lớp trong đó 11%
#Làm sao cho tổng 9 lớp hợp lại thành lớp other xấp xỉ lớp giữ lại

import tensorflow as tf
from tensorflow.keras.datasets import mnist
from tensorflow.keras.models import Sequential
from tensorflow.keras.layers import Dense, Flatten

# Tải dữ liệu MNIST
(train_images, train_labels), (test_images, test_labels) = mnist.load_data()

# Lựa chọn lớp bạn muốn giữ lại, ví dụ, số '1'
selected_class = 1

# Tạo nhãn mới: 1 cho lớp được giữ lại, 0 cho các lớp còn lại
train_labels_new = (train_labels == selected_class).astype(int)
test_labels_new = (test_labels == selected_class).astype(int)

# Tách dữ liệu theo lớp
class_selected_images = train_images[train_labels == selected_class]
class_selected_labels = train_labels_new[train_labels == selected_class]

class_other_images = []
class_other_labels = []

for label in range(10):
    if label != selected_class:
        class_images = train_images[train_labels == label]
        class_labels = train_labels_new[train_labels == label]
        random_indices = np.random.choice(class_images.shape[0], int(class_images.shape[0] * 0.11), replace=False)
        class_other_images.append(class_images[random_indices])
        class_other_labels.append(class_labels[random_indices])

# Gộp dữ liệu từ các lớp khác thành lớp "other"
class_other_images_reduced = np.concatenate(class_other_images, axis=0)
class_other_labels_reduced = np.concatenate(class_other_labels, axis=0)

# Kết hợp lại dữ liệu
train_images_reduced = np.concatenate((class_selected_images, class_other_images_reduced), axis=0)
train_labels_reduced = np.concatenate((class_selected_labels, class_other_labels_reduced), axis=0)

# Chuẩn bị dữ liệu
train_images_reduced = train_images_reduced / 255.0
test_images = test_images / 255.0

# Xây dựng mô hình
model = Sequential([
    Flatten(input_shape=(28, 28)),
    Dense(128, activation='relu'),
    Dense(1, activation='sigmoid')
])

# Biên dịch mô hình
model.compile(optimizer='adam',
              loss='binary_crossentropy',
              metrics=['accuracy'])

# Huấn luyện mô hình
model.fit(train_images_reduced, train_labels_reduced, epochs=50, batch_size=128, validation_data=(test_images, test_labels_new))

# Đánh giá mô hình
test_loss, test_accuracy = model.evaluate(test_images, test_labels_new)
print(f'Test accuracy: {test_accuracy * 100:.2f}%')