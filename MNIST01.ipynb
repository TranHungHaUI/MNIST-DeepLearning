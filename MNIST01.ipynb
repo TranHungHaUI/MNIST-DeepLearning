#Chia MNIST thành 2 class, class 1: Giữ lại, Class 0: Other
#Có độ thiên lệch về dữ liệu huấn luyện giữa 2 lớp: 1 và 0
import tensorflow as tf
from tensorflow.keras.datasets import mnist
from tensorflow.keras.models import Sequential
from tensorflow.keras.layers import Dense, Flatten

# Tải dữ liệu MNIST
(train_images, train_labels), (test_images, test_labels) = mnist.load_data()

# Lựa chọn lớp muốn giữ lại, ví dụ, số '1'
selected_class = 1

# Tạo nhãn mới: 1 cho lớp được giữ lại, 0 cho các lớp còn lại
train_labels = (train_labels == selected_class).astype(int)
test_labels = (test_labels == selected_class).astype(int)

# Chuẩn bị dữ liệu
train_images = train_images / 255.0
test_images = test_images / 255.0

# Xây dựng mô hình
model = Sequential([
    Flatten(input_shape=(28, 28)),
    Dense(128, activation='relu'),
    Dense(1, activation='sigmoid')
])

# Biên dịch mô hình
model.compile(optimizer='adam',
              loss='binary_crossentropy',
              metrics=['accuracy'])

# Huấn luyện mô hình
model.fit(train_images, train_labels, epochs=10, batch_size=128, validation_data=(test_images, test_labels))

# Đánh giá mô hình
test_loss, test_accuracy = model.evaluate(test_images, test_labels)
print(f'Test accuracy: {test_accuracy * 100:.2f}%')
